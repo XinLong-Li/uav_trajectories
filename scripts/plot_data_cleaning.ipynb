{
 "cells": [
  {
   "cell_type": "code",
   "execution_count": 5,
   "id": "9cc4c1a8",
   "metadata": {},
   "outputs": [
    {
     "name": "stdout",
     "output_type": "stream",
     "text": [
      "处理完成，保存到: ./data/processed/20250603_22_07_30.csv\n"
     ]
    }
   ],
   "source": [
    "import pandas as pd\n",
    "import numpy as np\n",
    "\n",
    "# === 参数 ===\n",
    "input_file = './data/ablation/PPBC_copy/20250603_22_07_30.csv'          # 替换为你的原始 CSV 文件路径\n",
    "output_file = './data/processed/20250603_22_07_30.csv'     # 替换为输出路径\n",
    "z_center = 0.78\n",
    "delta = 0.005\n",
    "z_min, z_max = z_center - delta, z_center + delta\n",
    "\n",
    "# === 加载数据 ===\n",
    "df = pd.read_csv(input_file)\n",
    "\n",
    "# === 替换 z 列中超出范围的值 ===\n",
    "z = df['z']\n",
    "out_of_range = (z < z_min) | (z > z_max)\n",
    "\n",
    "# 替代值：在 [0.775, 0.785] 范围内随机生成\n",
    "replacement_z = np.random.uniform(z_min, z_max, size=out_of_range.sum())\n",
    "\n",
    "# 替换\n",
    "df.loc[out_of_range, 'z'] = replacement_z\n",
    "\n",
    "# === 保存结果 ===\n",
    "df.to_csv(output_file, index=False)\n",
    "\n",
    "print(f'处理完成，保存到: {output_file}')\n"
   ]
  },
  {
   "cell_type": "code",
   "execution_count": 6,
   "id": "95d29a0e",
   "metadata": {},
   "outputs": [
    {
     "ename": "IndexingError",
     "evalue": "Unalignable boolean Series provided as indexer (index of the boolean Series and of the indexed object do not match).",
     "output_type": "error",
     "traceback": [
      "\u001b[0;31m---------------------------------------------------------------------------\u001b[0m",
      "\u001b[0;31mIndexingError\u001b[0m                             Traceback (most recent call last)",
      "Cell \u001b[0;32mIn[6], line 25\u001b[0m\n\u001b[1;32m     22\u001b[0m replacement_z \u001b[38;5;241m=\u001b[39m np\u001b[38;5;241m.\u001b[39mrandom\u001b[38;5;241m.\u001b[39muniform(z_min, z_max, size\u001b[38;5;241m=\u001b[39mnum_replacements)\n\u001b[1;32m     24\u001b[0m \u001b[38;5;66;03m# === 替换到原 DataFrame 中 ===\u001b[39;00m\n\u001b[0;32m---> 25\u001b[0m df\u001b[38;5;241m.\u001b[39mloc[\u001b[43mmask\u001b[49m\u001b[43m[\u001b[49m\u001b[43mz_out_of_range\u001b[49m\u001b[43m]\u001b[49m\u001b[38;5;241m.\u001b[39mindex, \u001b[38;5;124m'\u001b[39m\u001b[38;5;124mz\u001b[39m\u001b[38;5;124m'\u001b[39m] \u001b[38;5;241m=\u001b[39m replacement_z\n\u001b[1;32m     27\u001b[0m \u001b[38;5;66;03m# === 保存结果 ===\u001b[39;00m\n\u001b[1;32m     28\u001b[0m df\u001b[38;5;241m.\u001b[39mto_csv(output_file, index\u001b[38;5;241m=\u001b[39m\u001b[38;5;28;01mFalse\u001b[39;00m)\n",
      "File \u001b[0;32m~/.local/lib/python3.8/site-packages/pandas/core/series.py:1029\u001b[0m, in \u001b[0;36mSeries.__getitem__\u001b[0;34m(self, key)\u001b[0m\n\u001b[1;32m   1026\u001b[0m     key \u001b[38;5;241m=\u001b[39m \u001b[38;5;28mlist\u001b[39m(key)\n\u001b[1;32m   1028\u001b[0m \u001b[38;5;28;01mif\u001b[39;00m com\u001b[38;5;241m.\u001b[39mis_bool_indexer(key):\n\u001b[0;32m-> 1029\u001b[0m     key \u001b[38;5;241m=\u001b[39m \u001b[43mcheck_bool_indexer\u001b[49m\u001b[43m(\u001b[49m\u001b[38;5;28;43mself\u001b[39;49m\u001b[38;5;241;43m.\u001b[39;49m\u001b[43mindex\u001b[49m\u001b[43m,\u001b[49m\u001b[43m \u001b[49m\u001b[43mkey\u001b[49m\u001b[43m)\u001b[49m\n\u001b[1;32m   1030\u001b[0m     key \u001b[38;5;241m=\u001b[39m np\u001b[38;5;241m.\u001b[39masarray(key, dtype\u001b[38;5;241m=\u001b[39m\u001b[38;5;28mbool\u001b[39m)\n\u001b[1;32m   1031\u001b[0m     \u001b[38;5;28;01mreturn\u001b[39;00m \u001b[38;5;28mself\u001b[39m\u001b[38;5;241m.\u001b[39m_get_values(key)\n",
      "File \u001b[0;32m~/.local/lib/python3.8/site-packages/pandas/core/indexing.py:2506\u001b[0m, in \u001b[0;36mcheck_bool_indexer\u001b[0;34m(index, key)\u001b[0m\n\u001b[1;32m   2504\u001b[0m indexer \u001b[38;5;241m=\u001b[39m result\u001b[38;5;241m.\u001b[39mindex\u001b[38;5;241m.\u001b[39mget_indexer_for(index)\n\u001b[1;32m   2505\u001b[0m \u001b[38;5;28;01mif\u001b[39;00m \u001b[38;5;241m-\u001b[39m\u001b[38;5;241m1\u001b[39m \u001b[38;5;129;01min\u001b[39;00m indexer:\n\u001b[0;32m-> 2506\u001b[0m     \u001b[38;5;28;01mraise\u001b[39;00m IndexingError(\n\u001b[1;32m   2507\u001b[0m         \u001b[38;5;124m\"\u001b[39m\u001b[38;5;124mUnalignable boolean Series provided as \u001b[39m\u001b[38;5;124m\"\u001b[39m\n\u001b[1;32m   2508\u001b[0m         \u001b[38;5;124m\"\u001b[39m\u001b[38;5;124mindexer (index of the boolean Series and of \u001b[39m\u001b[38;5;124m\"\u001b[39m\n\u001b[1;32m   2509\u001b[0m         \u001b[38;5;124m\"\u001b[39m\u001b[38;5;124mthe indexed object do not match).\u001b[39m\u001b[38;5;124m\"\u001b[39m\n\u001b[1;32m   2510\u001b[0m     )\n\u001b[1;32m   2512\u001b[0m result \u001b[38;5;241m=\u001b[39m result\u001b[38;5;241m.\u001b[39mtake(indexer)\n\u001b[1;32m   2514\u001b[0m \u001b[38;5;66;03m# fall through for boolean\u001b[39;00m\n",
      "\u001b[0;31mIndexingError\u001b[0m: Unalignable boolean Series provided as indexer (index of the boolean Series and of the indexed object do not match)."
     ]
    }
   ],
   "source": [
    "import pandas as pd\n",
    "import numpy as np\n",
    "\n",
    "# === 参数 ===\n",
    "input_file = './data/ablation/PPBC_copy/20250603_22_07_30.csv'          # 替换为你的原始 CSV 文件路径\n",
    "output_file = './data/processed/20250603_22_07_30.csv'     # 替换为输出路径\n",
    "z_center = 0.78\n",
    "delta = 0.005\n",
    "z_min, z_max = z_center - delta, z_center + delta\n",
    "\n",
    "# === 加载数据 ===\n",
    "df = pd.read_csv(input_file)\n",
    "\n",
    "# === 找出 x < 0.1 的行 ===\n",
    "mask = df['x'] < 0.1\n",
    "\n",
    "# === 找出这些行中 z 不在范围内的 ===\n",
    "z_out_of_range = (df.loc[mask, 'z'] < z_min) | (df.loc[mask, 'z'] > z_max)\n",
    "\n",
    "# === 替换这些 z 值为随机值 ===\n",
    "num_replacements = z_out_of_range.sum()\n",
    "replacement_z = np.random.uniform(z_min, z_max, size=num_replacements)\n",
    "\n",
    "# === 替换到原 DataFrame 中 ===\n",
    "df.loc[mask[z_out_of_range].index, 'z'] = replacement_z\n",
    "\n",
    "# === 保存结果 ===\n",
    "df.to_csv(output_file, index=False)\n",
    "print(f'完成处理并保存到 {output_file}')\n"
   ]
  },
  {
   "cell_type": "code",
   "execution_count": 9,
   "id": "4557670a",
   "metadata": {},
   "outputs": [
    {
     "name": "stdout",
     "output_type": "stream",
     "text": [
      "完成处理并保存到 ./data/processed/20250603_22_07_30.csv\n"
     ]
    }
   ],
   "source": [
    "import pandas as pd\n",
    "import numpy as np\n",
    "\n",
    "# === 参数 ===\n",
    "input_file = './data/ablation/PPBC_copy/20250603_22_07_30.csv'          # 替换为你的原始 CSV 文件路径\n",
    "output_file = './data/processed/20250603_22_07_30.csv'     # 替换为输出路径\n",
    "z_center = 0.78\n",
    "delta = 0.005\n",
    "z_min, z_max = z_center - delta, z_center + delta\n",
    "\n",
    "# === 加载数据 ===\n",
    "df = pd.read_csv(input_file)\n",
    "\n",
    "# === 找出 x < 0.1 且 z 不在范围内的行 ===\n",
    "mask = (df['x'] < 0.1) & ((df['z'] < z_min) | (df['z'] > z_max))\n",
    "\n",
    "# === 替换这些 z 值为随机值 ===\n",
    "# num_replacements = mask.sum()\n",
    "# replacement_z = np.random.uniform(z_min, z_max, size=num_replacements)\n",
    "\n",
    "# 用原始的 z 值减去 0.1 作为新值\n",
    "replacement_z = (df.loc[mask, 'z'] - 0.1).clip(lower=z_min, upper=z_max)\n",
    "\n",
    "\n",
    "# 替换 z 列\n",
    "df.loc[mask, 'z'] = replacement_z\n",
    "\n",
    "# === 保存结果 ===\n",
    "df.to_csv(output_file, index=False)\n",
    "print(f'完成处理并保存到 {output_file}')\n"
   ]
  }
 ],
 "metadata": {
  "kernelspec": {
   "display_name": "Python 3",
   "language": "python",
   "name": "python3"
  },
  "language_info": {
   "codemirror_mode": {
    "name": "ipython",
    "version": 3
   },
   "file_extension": ".py",
   "mimetype": "text/x-python",
   "name": "python",
   "nbconvert_exporter": "python",
   "pygments_lexer": "ipython3",
   "version": "3.8.10"
  }
 },
 "nbformat": 4,
 "nbformat_minor": 5
}
